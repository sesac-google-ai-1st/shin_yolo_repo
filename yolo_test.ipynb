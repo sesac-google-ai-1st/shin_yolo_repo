{
 "cells": [
  {
   "cell_type": "code",
   "execution_count": 1,
   "metadata": {},
   "outputs": [
    {
     "name": "stdout",
     "output_type": "stream",
     "text": [
      "Wed Nov 29 23:11:08 2023       \n",
      "+---------------------------------------------------------------------------------------+\n",
      "| NVIDIA-SMI 535.129.03             Driver Version: 535.129.03   CUDA Version: 12.2     |\n",
      "|-----------------------------------------+----------------------+----------------------+\n",
      "| GPU  Name                 Persistence-M | Bus-Id        Disp.A | Volatile Uncorr. ECC |\n",
      "| Fan  Temp   Perf          Pwr:Usage/Cap |         Memory-Usage | GPU-Util  Compute M. |\n",
      "|                                         |                      |               MIG M. |\n",
      "|=========================================+======================+======================|\n",
      "|   0  Quadro M2200                   Off | 00000000:01:00.0 Off |                  N/A |\n",
      "| N/A   34C    P8              N/A /  80W |      9MiB /  4096MiB |      0%      Default |\n",
      "|                                         |                      |                  N/A |\n",
      "+-----------------------------------------+----------------------+----------------------+\n",
      "                                                                                         \n",
      "+---------------------------------------------------------------------------------------+\n",
      "| Processes:                                                                            |\n",
      "|  GPU   GI   CI        PID   Type   Process name                            GPU Memory |\n",
      "|        ID   ID                                                             Usage      |\n",
      "|=======================================================================================|\n",
      "|    0   N/A  N/A      1115      G   /usr/lib/xorg/Xorg                            2MiB |\n",
      "|    0   N/A  N/A      1826      G   /usr/lib/xorg/Xorg                            2MiB |\n",
      "+---------------------------------------------------------------------------------------+\n"
     ]
    }
   ],
   "source": [
    "# GPU 확인\n",
    "!nvidia-smi"
   ]
  },
  {
   "cell_type": "code",
   "execution_count": 2,
   "metadata": {},
   "outputs": [
    {
     "name": "stdout",
     "output_type": "stream",
     "text": [
      "/home/shin/my_ws/shin_yolo_repo\n"
     ]
    }
   ],
   "source": [
    "import os\n",
    "# os.chdir('/home/jupyter')\n",
    "HOME = os.getcwd()\n",
    "print(HOME)"
   ]
  },
  {
   "cell_type": "code",
   "execution_count": 3,
   "metadata": {},
   "outputs": [
    {
     "name": "stdout",
     "output_type": "stream",
     "text": [
      "/home/shin/my_ws/shin_yolo_repo\n"
     ]
    }
   ],
   "source": [
    "%cd {HOME}"
   ]
  },
  {
   "cell_type": "code",
   "execution_count": 4,
   "metadata": {},
   "outputs": [
    {
     "name": "stdout",
     "output_type": "stream",
     "text": [
      "/home/shin/my_ws/shin_yolo_repo\n",
      "Cloning into 'ultralytics'...\n",
      "remote: Enumerating objects: 19986, done.\u001b[K\n",
      "remote: Counting objects: 100% (1170/1170), done.\u001b[K\n",
      "remote: Compressing objects: 100% (611/611), done.\u001b[K\n",
      "remote: Total 19986 (delta 663), reused 951 (delta 555), pack-reused 18816\u001b[K\n",
      "Receiving objects: 100% (19986/19986), 11.19 MiB | 1.76 MiB/s, done.\n",
      "Resolving deltas: 100% (13850/13850), done.\n",
      "/home/shin/my_ws/shin_yolo_repo/ultralytics\n"
     ]
    }
   ],
   "source": [
    "%cd {HOME}\n",
    "!git clone https://github.com/ultralytics/ultralytics.git\n",
    "%cd ultralytics"
   ]
  },
  {
   "cell_type": "code",
   "execution_count": 5,
   "metadata": {},
   "outputs": [
    {
     "name": "stdout",
     "output_type": "stream",
     "text": [
      "Obtaining file:///home/shin/my_ws/shin_yolo_repo/ultralytics\n",
      "  Preparing metadata (setup.py) ... \u001b[?25ldone\n",
      "\u001b[?25hCollecting matplotlib>=3.3.0 (from ultralytics==8.0.219)\n",
      "  Downloading matplotlib-3.8.2-cp310-cp310-manylinux_2_17_x86_64.manylinux2014_x86_64.whl.metadata (5.8 kB)\n",
      "Requirement already satisfied: numpy>=1.22.2 in /home/shin/miniconda3/envs/yolo_venv/lib/python3.10/site-packages (from ultralytics==8.0.219) (1.26.0)\n",
      "Collecting opencv-python>=4.6.0 (from ultralytics==8.0.219)\n",
      "  Using cached opencv_python-4.8.1.78-cp37-abi3-manylinux_2_17_x86_64.manylinux2014_x86_64.whl.metadata (19 kB)\n",
      "Requirement already satisfied: pillow>=7.1.2 in /home/shin/miniconda3/envs/yolo_venv/lib/python3.10/site-packages (from ultralytics==8.0.219) (10.0.1)\n",
      "Requirement already satisfied: pyyaml>=5.3.1 in /home/shin/miniconda3/envs/yolo_venv/lib/python3.10/site-packages (from ultralytics==8.0.219) (6.0.1)\n",
      "Requirement already satisfied: requests>=2.23.0 in /home/shin/miniconda3/envs/yolo_venv/lib/python3.10/site-packages (from ultralytics==8.0.219) (2.31.0)\n",
      "Collecting scipy>=1.4.1 (from ultralytics==8.0.219)\n",
      "  Using cached scipy-1.11.4-cp310-cp310-manylinux_2_17_x86_64.manylinux2014_x86_64.whl.metadata (60 kB)\n",
      "Requirement already satisfied: torch>=1.8.0 in /home/shin/miniconda3/envs/yolo_venv/lib/python3.10/site-packages (from ultralytics==8.0.219) (1.13.1)\n",
      "Requirement already satisfied: torchvision>=0.9.0 in /home/shin/miniconda3/envs/yolo_venv/lib/python3.10/site-packages (from ultralytics==8.0.219) (0.14.1)\n",
      "Collecting tqdm>=4.64.0 (from ultralytics==8.0.219)\n",
      "  Using cached tqdm-4.66.1-py3-none-any.whl.metadata (57 kB)\n",
      "Requirement already satisfied: pandas>=1.1.4 in /home/shin/miniconda3/envs/yolo_venv/lib/python3.10/site-packages (from ultralytics==8.0.219) (2.1.1)\n",
      "Collecting seaborn>=0.11.0 (from ultralytics==8.0.219)\n",
      "  Downloading seaborn-0.13.0-py3-none-any.whl.metadata (5.3 kB)\n",
      "Requirement already satisfied: psutil in /home/shin/miniconda3/envs/yolo_venv/lib/python3.10/site-packages (from ultralytics==8.0.219) (5.9.0)\n",
      "Collecting py-cpuinfo (from ultralytics==8.0.219)\n",
      "  Using cached py_cpuinfo-9.0.0-py3-none-any.whl (22 kB)\n",
      "Collecting thop>=0.1.1 (from ultralytics==8.0.219)\n",
      "  Using cached thop-0.1.1.post2209072238-py3-none-any.whl (15 kB)\n",
      "Collecting contourpy>=1.0.1 (from matplotlib>=3.3.0->ultralytics==8.0.219)\n",
      "  Downloading contourpy-1.2.0-cp310-cp310-manylinux_2_17_x86_64.manylinux2014_x86_64.whl.metadata (5.8 kB)\n",
      "Collecting cycler>=0.10 (from matplotlib>=3.3.0->ultralytics==8.0.219)\n",
      "  Downloading cycler-0.12.1-py3-none-any.whl.metadata (3.8 kB)\n",
      "Collecting fonttools>=4.22.0 (from matplotlib>=3.3.0->ultralytics==8.0.219)\n",
      "  Downloading fonttools-4.45.1-cp310-cp310-manylinux_2_17_x86_64.manylinux2014_x86_64.whl.metadata (155 kB)\n",
      "\u001b[2K     \u001b[38;2;114;156;31m━━━━━━━━━━━━━━━━━━━━━━━━━━━━━━━━━━━━━━━\u001b[0m \u001b[32m155.2/155.2 kB\u001b[0m \u001b[31m1.2 MB/s\u001b[0m eta \u001b[36m0:00:00\u001b[0mm eta \u001b[36m0:00:01\u001b[0m[36m0:00:01\u001b[0m\n",
      "\u001b[?25hCollecting kiwisolver>=1.3.1 (from matplotlib>=3.3.0->ultralytics==8.0.219)\n",
      "  Downloading kiwisolver-1.4.5-cp310-cp310-manylinux_2_12_x86_64.manylinux2010_x86_64.whl.metadata (6.4 kB)\n",
      "Requirement already satisfied: packaging>=20.0 in /home/shin/miniconda3/envs/yolo_venv/lib/python3.10/site-packages (from matplotlib>=3.3.0->ultralytics==8.0.219) (23.1)\n",
      "Collecting pyparsing>=2.3.1 (from matplotlib>=3.3.0->ultralytics==8.0.219)\n",
      "  Downloading pyparsing-3.1.1-py3-none-any.whl.metadata (5.1 kB)\n",
      "Requirement already satisfied: python-dateutil>=2.7 in /home/shin/miniconda3/envs/yolo_venv/lib/python3.10/site-packages (from matplotlib>=3.3.0->ultralytics==8.0.219) (2.8.2)\n",
      "Requirement already satisfied: pytz>=2020.1 in /home/shin/miniconda3/envs/yolo_venv/lib/python3.10/site-packages (from pandas>=1.1.4->ultralytics==8.0.219) (2023.3.post1)\n",
      "Requirement already satisfied: tzdata>=2022.1 in /home/shin/miniconda3/envs/yolo_venv/lib/python3.10/site-packages (from pandas>=1.1.4->ultralytics==8.0.219) (2023.3)\n",
      "Requirement already satisfied: charset-normalizer<4,>=2 in /home/shin/miniconda3/envs/yolo_venv/lib/python3.10/site-packages (from requests>=2.23.0->ultralytics==8.0.219) (2.0.4)\n",
      "Requirement already satisfied: idna<4,>=2.5 in /home/shin/miniconda3/envs/yolo_venv/lib/python3.10/site-packages (from requests>=2.23.0->ultralytics==8.0.219) (3.4)\n",
      "Requirement already satisfied: urllib3<3,>=1.21.1 in /home/shin/miniconda3/envs/yolo_venv/lib/python3.10/site-packages (from requests>=2.23.0->ultralytics==8.0.219) (1.26.18)\n",
      "Requirement already satisfied: certifi>=2017.4.17 in /home/shin/miniconda3/envs/yolo_venv/lib/python3.10/site-packages (from requests>=2.23.0->ultralytics==8.0.219) (2023.11.17)\n",
      "Requirement already satisfied: typing_extensions in /home/shin/miniconda3/envs/yolo_venv/lib/python3.10/site-packages (from torch>=1.8.0->ultralytics==8.0.219) (4.7.1)\n",
      "Requirement already satisfied: six>=1.5 in /home/shin/miniconda3/envs/yolo_venv/lib/python3.10/site-packages (from python-dateutil>=2.7->matplotlib>=3.3.0->ultralytics==8.0.219) (1.16.0)\n",
      "Downloading matplotlib-3.8.2-cp310-cp310-manylinux_2_17_x86_64.manylinux2014_x86_64.whl (11.6 MB)\n",
      "\u001b[2K   \u001b[38;2;114;156;31m━━━━━━━━━━━━━━━━━━━━━━━━━━━━━━━━━━━━━━━━\u001b[0m \u001b[32m11.6/11.6 MB\u001b[0m \u001b[31m1.9 MB/s\u001b[0m eta \u001b[36m0:00:00\u001b[0mm eta \u001b[36m0:00:01\u001b[0m[36m0:00:01\u001b[0m\n",
      "\u001b[?25hUsing cached opencv_python-4.8.1.78-cp37-abi3-manylinux_2_17_x86_64.manylinux2014_x86_64.whl (61.7 MB)\n",
      "Using cached scipy-1.11.4-cp310-cp310-manylinux_2_17_x86_64.manylinux2014_x86_64.whl (36.4 MB)\n",
      "Downloading seaborn-0.13.0-py3-none-any.whl (294 kB)\n",
      "\u001b[2K   \u001b[38;2;114;156;31m━━━━━━━━━━━━━━━━━━━━━━━━━━━━━━━━━━━━━━━━\u001b[0m \u001b[32m294.6/294.6 kB\u001b[0m \u001b[31m1.0 MB/s\u001b[0m eta \u001b[36m0:00:00\u001b[0m[31m1.9 MB/s\u001b[0m eta \u001b[36m0:00:01\u001b[0m\n",
      "\u001b[?25hUsing cached tqdm-4.66.1-py3-none-any.whl (78 kB)\n",
      "Downloading contourpy-1.2.0-cp310-cp310-manylinux_2_17_x86_64.manylinux2014_x86_64.whl (310 kB)\n",
      "\u001b[2K   \u001b[38;2;114;156;31m━━━━━━━━━━━━━━━━━━━━━━━━━━━━━━━━━━━━━━━━\u001b[0m \u001b[32m310.7/310.7 kB\u001b[0m \u001b[31m1.2 MB/s\u001b[0m eta \u001b[36m0:00:00\u001b[0mm eta \u001b[36m0:00:01\u001b[0m[36m0:00:01\u001b[0m\n",
      "\u001b[?25hDownloading cycler-0.12.1-py3-none-any.whl (8.3 kB)\n",
      "Downloading fonttools-4.45.1-cp310-cp310-manylinux_2_17_x86_64.manylinux2014_x86_64.whl (4.6 MB)\n",
      "\u001b[2K   \u001b[38;2;114;156;31m━━━━━━━━━━━━━━━━━━━━━━━━━━━━━━━━━━━━━━━━\u001b[0m \u001b[32m4.6/4.6 MB\u001b[0m \u001b[31m1.7 MB/s\u001b[0m eta \u001b[36m0:00:00\u001b[0mm eta \u001b[36m0:00:01\u001b[0m[36m0:00:01\u001b[0m\n",
      "\u001b[?25hDownloading kiwisolver-1.4.5-cp310-cp310-manylinux_2_12_x86_64.manylinux2010_x86_64.whl (1.6 MB)\n",
      "\u001b[2K   \u001b[38;2;114;156;31m━━━━━━━━━━━━━━━━━━━━━━━━━━━━━━━━━━━━━━━━\u001b[0m \u001b[32m1.6/1.6 MB\u001b[0m \u001b[31m1.5 MB/s\u001b[0m eta \u001b[36m0:00:00\u001b[0mm eta \u001b[36m0:00:01\u001b[0m0:01\u001b[0m:01\u001b[0m\n",
      "\u001b[?25hDownloading pyparsing-3.1.1-py3-none-any.whl (103 kB)\n",
      "\u001b[2K   \u001b[38;2;114;156;31m━━━━━━━━━━━━━━━━━━━━━━━━━━━━━━━━━━━━━━━\u001b[0m \u001b[32m103.1/103.1 kB\u001b[0m \u001b[31m794.9 kB/s\u001b[0m eta \u001b[36m0:00:00\u001b[0m eta \u001b[36m0:00:01\u001b[0m\n",
      "\u001b[?25hInstalling collected packages: py-cpuinfo, tqdm, scipy, pyparsing, opencv-python, kiwisolver, fonttools, cycler, contourpy, thop, matplotlib, seaborn, ultralytics\n",
      "  Running setup.py develop for ultralytics\n",
      "Successfully installed contourpy-1.2.0 cycler-0.12.1 fonttools-4.45.1 kiwisolver-1.4.5 matplotlib-3.8.2 opencv-python-4.8.1.78 py-cpuinfo-9.0.0 pyparsing-3.1.1 scipy-1.11.4 seaborn-0.13.0 thop-0.1.1.post2209072238 tqdm-4.66.1 ultralytics-8.0.219\n"
     ]
    }
   ],
   "source": [
    "# Clone the ultralytics repository\n",
    "# git clone https://github.com/ultralytics/ultralytics\n",
    "\n",
    "# Navigate to the cloned directory\n",
    "# cd ultralytics\n",
    "\n",
    "# Install the package in editable mode for development\n",
    "!pip install -e ."
   ]
  },
  {
   "cell_type": "code",
   "execution_count": 6,
   "metadata": {},
   "outputs": [],
   "source": [
    "from IPython.core.magic import register_line_cell_magic\n",
    "\n",
    "# yaml에 직접 쓰기를 실행하는 함수\n",
    "@register_line_cell_magic\n",
    "def writetemplate(line, cell):\n",
    "    with open(line, 'w') as f:\n",
    "        f.write(cell.format(**globals()))"
   ]
  },
  {
   "cell_type": "code",
   "execution_count": 10,
   "metadata": {},
   "outputs": [
    {
     "name": "stdout",
     "output_type": "stream",
     "text": [
      "/home/shin/my_ws/shin_yolo_repo\n"
     ]
    },
    {
     "data": {
      "text/plain": [
       "'/home/shin/my_ws/shin_yolo_repo/data_v2.yaml'"
      ]
     },
     "execution_count": 10,
     "metadata": {},
     "output_type": "execute_result"
    }
   ],
   "source": [
    "%cd {HOME}\n",
    "dataYaml = os.path.join(HOME,'data_v2.yaml')\n",
    "dataYaml"
   ]
  },
  {
   "cell_type": "code",
   "execution_count": 11,
   "metadata": {},
   "outputs": [],
   "source": [
    "%%writetemplate {dataYaml}\n",
    "train: /home/shin/my_ws/shin_yolo_repo/datasets/train/images\n",
    "val: /home/shin/my_ws/shin_yolo_repo/datasets/val/images\n",
    "\n",
    "nc: 3\n",
    "names: ['car', 'bus', 'truck']"
   ]
  },
  {
   "cell_type": "code",
   "execution_count": 4,
   "metadata": {},
   "outputs": [
    {
     "name": "stdout",
     "output_type": "stream",
     "text": [
      "/home/shin/my_ws/shin_yolo_repo\n"
     ]
    }
   ],
   "source": [
    "!pwd"
   ]
  },
  {
   "cell_type": "code",
   "execution_count": 14,
   "metadata": {},
   "outputs": [
    {
     "name": "stdout",
     "output_type": "stream",
     "text": [
      "Ultralytics YOLOv8.0.219 🚀 Python-3.10.13 torch-1.13.1 CUDA:0 (Quadro M2200, 4038MiB)\n",
      "Model summary (fused): 168 layers, 3006233 parameters, 0 gradients, 8.1 GFLOPs\n",
      "\u001b[34m\u001b[1mval: \u001b[0mScanning /home/shin/my_ws/shin_yolo_repo/datasets/val/labels/Suwon_CH01_202\u001b[0m\n",
      "                 Class     Images  Instances      Box(P          R      mAP50  m\n",
      "                   all       3333      51017      0.902      0.864      0.931      0.778\n",
      "                   car       3333      38759      0.931      0.921      0.971      0.832\n",
      "                   bus       3333       1868      0.878      0.813      0.892      0.733\n",
      "                 truck       3333      10390      0.896      0.857      0.932      0.768\n",
      "Speed: 0.4ms preprocess, 9.2ms inference, 0.0ms loss, 0.7ms postprocess per image\n",
      "Results saved to \u001b[1mruns/detect/highway_nano2\u001b[0m\n",
      "💡 Learn more at https://docs.ultralytics.com/modes/val\n"
     ]
    }
   ],
   "source": [
    "!yolo detect val model=runs/detect/train4/weights/best.pt data=data_v2.yaml plots=True name='highway_nano2'"
   ]
  },
  {
   "cell_type": "code",
   "execution_count": 33,
   "metadata": {},
   "outputs": [
    {
     "name": "stdout",
     "output_type": "stream",
     "text": [
      "Ultralytics YOLOv8.0.219 🚀 Python-3.10.13 torch-1.13.1 CUDA:0 (Quadro M2200, 4038MiB)\n",
      "Model summary (fused): 218 layers, 25841497 parameters, 0 gradients, 78.7 GFLOPs\n",
      "\u001b[34m\u001b[1mval: \u001b[0mScanning /home/shin/my_ws/shin_yolo_repo/datasets/val/labels/Suwon_CH01_202\u001b[0m\n",
      "                 Class     Images  Instances      Box(P          R      mAP50  m\n",
      "                   all       3333      51017      0.922      0.894      0.952      0.823\n",
      "                   car       3333      38759      0.945      0.924      0.976      0.857\n",
      "                   bus       3333       1868      0.915      0.869      0.928        0.8\n",
      "                 truck       3333      10390      0.905      0.889      0.951      0.812\n",
      "Speed: 0.4ms preprocess, 49.0ms inference, 0.0ms loss, 0.8ms postprocess per image\n",
      "Results saved to \u001b[1mruns/detect/highway_medium\u001b[0m\n",
      "💡 Learn more at https://docs.ultralytics.com/modes/val\n"
     ]
    }
   ],
   "source": [
    "!yolo detect val model=runs/detect/train9/weights/best.pt data=data_v2.yaml plots=True name='highway_medium'"
   ]
  },
  {
   "cell_type": "code",
   "execution_count": 34,
   "metadata": {},
   "outputs": [
    {
     "name": "stdout",
     "output_type": "stream",
     "text": [
      "Ultralytics YOLOv8.0.219 🚀 Python-3.10.13 torch-1.13.1 CUDA:0 (Quadro M2200, 4038MiB)\n",
      "Model summary (fused): 218 layers, 25841497 parameters, 0 gradients, 78.7 GFLOPs\n",
      "\u001b[34m\u001b[1mval: \u001b[0mScanning /home/shin/my_ws/shin_yolo_repo/datasets/val/labels/Suwon_CH01_202\u001b[0m\n",
      "                 Class     Images  Instances      Box(P          R      mAP50  m\n",
      "                   all       3333      51017      0.923      0.897      0.953      0.825\n",
      "                   car       3333      38759      0.943      0.928      0.977      0.858\n",
      "                   bus       3333       1868      0.919      0.868      0.929      0.802\n",
      "                 truck       3333      10390      0.907      0.894      0.952      0.815\n",
      "Speed: 0.4ms preprocess, 49.0ms inference, 0.0ms loss, 0.7ms postprocess per image\n",
      "Results saved to \u001b[1mruns/detect/highway_medium2\u001b[0m\n",
      "💡 Learn more at https://docs.ultralytics.com/modes/val\n"
     ]
    }
   ],
   "source": [
    "!yolo detect val model=runs/detect/train11/weights/best.pt data=data_v2.yaml plots=True name='highway_medium2'"
   ]
  },
  {
   "cell_type": "code",
   "execution_count": 35,
   "metadata": {},
   "outputs": [
    {
     "name": "stdout",
     "output_type": "stream",
     "text": [
      "Ultralytics YOLOv8.0.219 🚀 Python-3.10.13 torch-1.13.1 CUDA:0 (Quadro M2200, 4038MiB)\n",
      "Model summary (fused): 268 layers, 43608921 parameters, 0 gradients, 164.8 GFLOPs\n",
      "\u001b[34m\u001b[1mval: \u001b[0mScanning /home/shin/my_ws/shin_yolo_repo/datasets/val/labels/Suwon_CH01_202\u001b[0m\n",
      "                 Class     Images  Instances      Box(P          R      mAP50  m\n",
      "Traceback (most recent call last):\n",
      "  File \"/home/shin/miniconda3/envs/yolo_venv/bin/yolo\", line 33, in <module>\n",
      "    sys.exit(load_entry_point('ultralytics', 'console_scripts', 'yolo')())\n",
      "  File \"/home/shin/my_ws/shin_yolo_repo/ultralytics/ultralytics/cfg/__init__.py\", line 448, in entrypoint\n",
      "    getattr(model, mode)(**overrides)  # default args from model\n",
      "  File \"/home/shin/my_ws/shin_yolo_repo/ultralytics/ultralytics/engine/model.py\", line 273, in val\n",
      "    validator(model=self.model)\n",
      "  File \"/home/shin/miniconda3/envs/yolo_venv/lib/python3.10/site-packages/torch/autograd/grad_mode.py\", line 27, in decorate_context\n",
      "    return func(*args, **kwargs)\n",
      "  File \"/home/shin/my_ws/shin_yolo_repo/ultralytics/ultralytics/engine/validator.py\", line 169, in __call__\n",
      "    preds = model(batch['img'], augment=augment)\n",
      "  File \"/home/shin/miniconda3/envs/yolo_venv/lib/python3.10/site-packages/torch/nn/modules/module.py\", line 1194, in _call_impl\n",
      "    return forward_call(*input, **kwargs)\n",
      "  File \"/home/shin/my_ws/shin_yolo_repo/ultralytics/ultralytics/nn/autobackend.py\", line 347, in forward\n",
      "    y = self.model(im, augment=augment, visualize=visualize) if augment or visualize else self.model(im)\n",
      "  File \"/home/shin/miniconda3/envs/yolo_venv/lib/python3.10/site-packages/torch/nn/modules/module.py\", line 1194, in _call_impl\n",
      "    return forward_call(*input, **kwargs)\n",
      "  File \"/home/shin/my_ws/shin_yolo_repo/ultralytics/ultralytics/nn/tasks.py\", line 42, in forward\n",
      "    return self.predict(x, *args, **kwargs)\n",
      "  File \"/home/shin/my_ws/shin_yolo_repo/ultralytics/ultralytics/nn/tasks.py\", line 59, in predict\n",
      "    return self._predict_once(x, profile, visualize)\n",
      "  File \"/home/shin/my_ws/shin_yolo_repo/ultralytics/ultralytics/nn/tasks.py\", line 79, in _predict_once\n",
      "    x = m(x)  # run\n",
      "  File \"/home/shin/miniconda3/envs/yolo_venv/lib/python3.10/site-packages/torch/nn/modules/module.py\", line 1194, in _call_impl\n",
      "    return forward_call(*input, **kwargs)\n",
      "  File \"/home/shin/my_ws/shin_yolo_repo/ultralytics/ultralytics/nn/modules/block.py\", line 204, in forward\n",
      "    return self.cv2(torch.cat(y, 1))\n",
      "torch.cuda.OutOfMemoryError: CUDA out of memory. Tried to allocate 1.33 GiB (GPU 0; 3.94 GiB total capacity; 2.39 GiB already allocated; 1.26 GiB free; 2.52 GiB reserved in total by PyTorch) If reserved memory is >> allocated memory try setting max_split_size_mb to avoid fragmentation.  See documentation for Memory Management and PYTORCH_CUDA_ALLOC_CONF\n"
     ]
    }
   ],
   "source": [
    "!yolo detect val model=runs/detect/train12/weights/best.pt data=data_v2.yaml plots=True name='highway_large'"
   ]
  },
  {
   "cell_type": "code",
   "execution_count": 9,
   "metadata": {},
   "outputs": [
    {
     "name": "stdout",
     "output_type": "stream",
     "text": [
      "Ultralytics YOLOv8.0.219 🚀 Python-3.10.13 torch-1.13.1 CUDA:0 (Quadro M2200, 4038MiB)\n",
      "Model summary (fused): 168 layers, 3006233 parameters, 0 gradients, 8.1 GFLOPs\n"
     ]
    },
    {
     "name": "stderr",
     "output_type": "stream",
     "text": [
      "\u001b[34m\u001b[1mval: \u001b[0mScanning /home/shin/my_ws/shin_yolo_repo/datasets/val/labels/Suwon_CH01_20200720_1830_MON_9m_RH_highway_TW5_sunny_FHD.cache... 3333 images, 0 backgrounds, 0 corrupt: 100%|██████████| 3333/3333 [00:00<?, ?it/s]\n",
      "                 Class     Images  Instances      Box(P          R      mAP50  mAP50-95):   0%|          | 0/209 [00:00<?, ?it/s]"
     ]
    },
    {
     "name": "stdout",
     "output_type": "stream",
     "text": [
      "WARNING ⚠️ NMS time limit 1.300s exceeded\n"
     ]
    },
    {
     "name": "stderr",
     "output_type": "stream",
     "text": [
      "                 Class     Images  Instances      Box(P          R      mAP50  mAP50-95): 100%|██████████| 209/209 [02:19<00:00,  1.50it/s]\n"
     ]
    },
    {
     "name": "stdout",
     "output_type": "stream",
     "text": [
      "                   all       3333      51017      0.902      0.862      0.929      0.776\n",
      "                   car       3333      38759      0.931      0.918      0.968       0.83\n",
      "                   bus       3333       1868      0.878      0.812       0.89      0.733\n",
      "                 truck       3333      10390      0.896      0.856       0.93      0.766\n",
      "Speed: 0.4ms preprocess, 9.3ms inference, 0.0ms loss, 2.2ms postprocess per image\n",
      "Results saved to \u001b[1mruns/detect/val\u001b[0m\n"
     ]
    },
    {
     "data": {
      "text/plain": [
       "array([    0.83031,     0.73254,     0.76619])"
      ]
     },
     "execution_count": 9,
     "metadata": {},
     "output_type": "execute_result"
    }
   ],
   "source": [
    "from ultralytics import YOLO\n",
    "\n",
    "# Load a model\n",
    "# model = YOLO('yolov8n.pt')  # load an official model\n",
    "model = YOLO('runs/detect/train4/weights/best.pt')  # load a custom model\n",
    "\n",
    "# Validate the model\n",
    "metrics = model.val(data='data_v2.yaml', plots=True)  # no arguments needed, dataset and settings remembered\n",
    "metrics.box.map    # map50-95\n",
    "metrics.box.map50  # map50\n",
    "metrics.box.map75  # map75\n",
    "metrics.box.maps   # a list contains map50-95 of each category"
   ]
  },
  {
   "cell_type": "code",
   "execution_count": 7,
   "metadata": {},
   "outputs": [
    {
     "name": "stdout",
     "output_type": "stream",
     "text": [
      "/home/shin/my_ws/shin_yolo_repo\n"
     ]
    }
   ],
   "source": [
    "!pwd"
   ]
  },
  {
   "cell_type": "code",
   "execution_count": null,
   "metadata": {},
   "outputs": [],
   "source": []
  }
 ],
 "metadata": {
  "kernelspec": {
   "display_name": "yolo_venv",
   "language": "python",
   "name": "python3"
  },
  "language_info": {
   "codemirror_mode": {
    "name": "ipython",
    "version": 3
   },
   "file_extension": ".py",
   "mimetype": "text/x-python",
   "name": "python",
   "nbconvert_exporter": "python",
   "pygments_lexer": "ipython3",
   "version": "3.10.13"
  }
 },
 "nbformat": 4,
 "nbformat_minor": 2
}
