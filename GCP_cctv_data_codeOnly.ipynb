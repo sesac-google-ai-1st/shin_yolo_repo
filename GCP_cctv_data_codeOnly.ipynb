{
 "cells": [
  {
   "cell_type": "markdown",
   "id": "4db014a7-f736-4350-9c5a-ed9d3eae3c51",
   "metadata": {},
   "source": [
    "## 버킷 작업"
   ]
  },
  {
   "cell_type": "code",
   "execution_count": null,
   "metadata": {},
   "outputs": [],
   "source": [
    "# OS : Linux-5.10.0-26-cloud-amd64-x86_64-with-glibc2.31\n",
    "# Python : 3.10.13\n",
    "# Numpy : 1.25.2\n",
    "# Pandas : 2.0.3\n",
    "# Matplotlib : 3.7.3\n",
    "# Seaborn : 0.12.2\n",
    "# ipykernel : 6.26.0\n",
    "# notebook : 6.5.6\n",
    "# torch : 1.13.1+cu117\n",
    "# Created: NOV. 20. 2023\n",
    "# Author: D.W. SHIN\n",
    "# 교통문제 해결을 위한 CCTV 교통 영상(고속도로)의 데이터 분석"
   ]
  },
  {
   "cell_type": "code",
   "execution_count": null,
   "id": "cdbb1209-b715-4941-bdaa-3669f8dba246",
   "metadata": {
    "tags": []
   },
   "outputs": [],
   "source": [
    "# 버킷 리스트 확인\n",
    "!gsutil list"
   ]
  },
  {
   "cell_type": "code",
   "execution_count": null,
   "id": "e7bcc179-c9db-469b-8d77-5b596d107dc0",
   "metadata": {
    "scrolled": true,
    "tags": []
   },
   "outputs": [],
   "source": [
    "# 버킷에서 파일 복사하기\n",
    "!gsutil -m cp -r gs://cctv_storage_20231120/ cctv_datasets"
   ]
  },
  {
   "cell_type": "code",
   "execution_count": null,
   "id": "99014e80-324d-488a-8188-6d43b7b5852c",
   "metadata": {
    "tags": []
   },
   "outputs": [],
   "source": [
    "# 현재 작업디렉토리 확인\n",
    "import os\n",
    "os.chdir('/home/jupyter')\n",
    "HOME = os.getcwd()\n",
    "print(HOME)"
   ]
  },
  {
   "cell_type": "markdown",
   "id": "ef134e60-3759-4838-a7ee-53bcb5cac3cc",
   "metadata": {},
   "source": [
    "## zip 파일 복사"
   ]
  },
  {
   "cell_type": "code",
   "execution_count": null,
   "id": "687b2a31-063d-452b-8abf-4d401012bb08",
   "metadata": {
    "collapsed": true,
    "jupyter": {
     "outputs_hidden": true
    },
    "tags": []
   },
   "outputs": [],
   "source": [
    "%cd {HOME}\n",
    "zipPath1 = '/home/jupyter/cctv_datasets/cctv_storage_20231120/val/[라벨]1.수도권영동선.zip'\n",
    "!unzip {zipPath1} -d /home/jupyter/cctv_datasets/cctv_storage_20231120/val/xml"
   ]
  },
  {
   "cell_type": "code",
   "execution_count": null,
   "id": "152b2871-ef35-4ccf-8d1a-299dfc80f477",
   "metadata": {
    "collapsed": true,
    "jupyter": {
     "outputs_hidden": true
    },
    "tags": []
   },
   "outputs": [],
   "source": [
    "%cd {HOME}\n",
    "zipPath2 = '/home/jupyter/cctv_datasets/cctv_storage_20231120/val/[원천]1.수도권영동선.zip'\n",
    "!unzip {zipPath2} -d /home/jupyter/cctv_datasets/cctv_storage_20231120/val/images"
   ]
  },
  {
   "cell_type": "code",
   "execution_count": null,
   "id": "1c0a8f76-0564-4b9b-9946-26fd029e210a",
   "metadata": {
    "collapsed": true,
    "jupyter": {
     "outputs_hidden": true
    },
    "tags": []
   },
   "outputs": [],
   "source": [
    "%cd {HOME}\n",
    "zipPath3 = '/home/jupyter/mount_folder/Training/[라벨]1.수도권영동선.zip'\n",
    "!unzip {zipPath3} -d /home/jupyter/cctv_datasets/cctv_storage_20231120/val/images"
   ]
  },
  {
   "cell_type": "code",
   "execution_count": null,
   "id": "cd5c4f70-fbeb-4828-ae49-ebf805bc7339",
   "metadata": {
    "collapsed": true,
    "jupyter": {
     "outputs_hidden": true
    },
    "tags": []
   },
   "outputs": [],
   "source": [
    "%cd {HOME}\n",
    "zipPath4 = '/home/jupyter/cctv_datasets/cctv_storage_20231120/train/[원천]1-1.수도권영동선.zip'\n",
    "!unzip {zipPath4} -d /home/jupyter/cctv_datasets/cctv_storage_20231120/train/images"
   ]
  },
  {
   "cell_type": "code",
   "execution_count": null,
   "id": "c0f8eb99-55c0-4340-81f3-82fac1ed7b17",
   "metadata": {
    "collapsed": true,
    "jupyter": {
     "outputs_hidden": true
    },
    "tags": []
   },
   "outputs": [],
   "source": [
    "# 이미지 경로 맞춰주기\n",
    "#!mv * /home/jupyter/cctv_datasets/cctv_storage_20231120/val/images"
   ]
  },
  {
   "cell_type": "code",
   "execution_count": null,
   "id": "04b827e3-6475-4117-8f07-282db5523082",
   "metadata": {
    "collapsed": true,
    "jupyter": {
     "outputs_hidden": true
    },
    "tags": []
   },
   "outputs": [],
   "source": [
    "# GPU 확인\n",
    "!nvidia-smi"
   ]
  },
  {
   "cell_type": "markdown",
   "id": "d5fdc62a-2dbf-4e86-812d-e2df1f970536",
   "metadata": {},
   "source": [
    "## YOLO 파일 설치"
   ]
  },
  {
   "cell_type": "code",
   "execution_count": null,
   "id": "43ca3347-558f-4372-8443-ec698d3e8375",
   "metadata": {
    "tags": []
   },
   "outputs": [],
   "source": [
    "%cd {HOME}\n",
    "!git clone https://github.com/ultralytics/ultralytics\n",
    "%cd ultralytics"
   ]
  },
  {
   "cell_type": "code",
   "execution_count": null,
   "id": "a8f6054d-e77a-4ead-95f9-a2bc9a4e981a",
   "metadata": {
    "tags": []
   },
   "outputs": [],
   "source": [
    "# Install YOLOv8\n",
    "!pip install ultralytics==8.0.20\n",
    "\n",
    "from IPython import display\n",
    "display.clear_output()\n",
    "\n",
    "import ultralytics\n",
    "ultralytics.checks()"
   ]
  },
  {
   "cell_type": "code",
   "execution_count": null,
   "id": "71e6760c-7f79-46e5-bc19-463cffa9e074",
   "metadata": {
    "tags": []
   },
   "outputs": [],
   "source": [
    "from ultralytics import YOLO\n",
    "\n",
    "from IPython.display import display, Image"
   ]
  },
  {
   "cell_type": "code",
   "execution_count": null,
   "id": "fcc96f92-eecc-49fe-8d5b-2167feda5171",
   "metadata": {
    "collapsed": true,
    "jupyter": {
     "outputs_hidden": true
    },
    "tags": []
   },
   "outputs": [],
   "source": [
    "!pip install lxml"
   ]
  },
  {
   "cell_type": "code",
   "execution_count": null,
   "id": "5452f348-e03b-42a7-8175-aa3ea5ab5eb2",
   "metadata": {
    "collapsed": true,
    "jupyter": {
     "outputs_hidden": true
    }
   },
   "outputs": [],
   "source": []
  },
  {
   "cell_type": "markdown",
   "id": "2a5bcc0a-025c-4d2c-8ac1-2a41201e5f2d",
   "metadata": {},
   "source": [
    "## XML -> TXT 파일 변환"
   ]
  },
  {
   "cell_type": "code",
   "execution_count": null,
   "id": "72c7ec53-ab96-407b-b7b2-bdd6bbe9b565",
   "metadata": {
    "tags": []
   },
   "outputs": [],
   "source": [
    "# xml -> TXT로 변환\n",
    "import numpy as np\n",
    "import lxml\n",
    "import os\n",
    "import glob\n",
    "\n",
    "from lxml import etree\n",
    "\n",
    "CLASSES = [\"car\", \"bus\", \"truck\"]\n",
    "\n",
    "def to_yolov8(y):\n",
    "  \"\"\"\n",
    "  # change to yolo v8 format\n",
    "  # [x_top_left, y_top_left, x_bottom_right, y_bottom_right] to\n",
    "  # [x_center, y_center, width, height]\n",
    "  \"\"\"\n",
    "  width = y[2] - y[0]\n",
    "  height = y[3] - y[1]\n",
    "\n",
    "  if width < 0 or height < 0:\n",
    "      print(\"ERROR: negative width or height \", width, height, y)\n",
    "      raise AssertionError(\"Negative width or height\")\n",
    "  return (y[0] + (width/2)), (y[1] + (height/2)), width, height\n",
    "\n",
    "\n",
    "def load_xml_annotations(f):\n",
    "  tree = etree.parse(f)\n",
    "  anns = []\n",
    "  for dim in tree.xpath(\"image\"):\n",
    "    image_filename = dim.attrib[\"name\"]\n",
    "    width = int(dim.attrib[\"width\"])\n",
    "    height = int(dim.attrib[\"height\"])\n",
    "    # print(image_filename)\n",
    "    # print(len(dim.xpath(\"box\")))\n",
    "    boxes = []\n",
    "    for box in dim.xpath(\"box\"):\n",
    "      label = CLASSES.index(box.attrib[\"label\"])\n",
    "      xtl, ytl = box.attrib[\"xtl\"], box.attrib[\"ytl\"]\n",
    "      xbr, ybr = box.attrib[\"xbr\"], box.attrib[\"ybr\"]\n",
    "\n",
    "      xc, yc, w, h = to_yolov8([float(xtl), float(ytl), float(xbr), float(ybr)])\n",
    "      boxes.append([label, round(xc/width, 5), round(yc/height, 5), round(w/width, 5), round(h/height, 5)])\n",
    "\n",
    "    anns.append([image_filename, width, height, boxes])\n",
    "\n",
    "  return np.array(anns, dtype=\"object\")\n",
    "\n",
    "def write_yolov8_txt(folder, annotation):\n",
    "  #print(annotation[0][:-3])\n",
    "  out_filename = os.path.join(folder,str(annotation[0][:-3]))\n",
    "  out_filename = os.path.splitext(out_filename)[0]\n",
    "  out_filename = out_filename+'.txt'\n",
    "\n",
    "  f = open(out_filename,\"w+\")\n",
    "  for box in annotation[3]:\n",
    "    f.write(\"{} {} {} {} {}\\n\".format(box[0], box[1], box[2], box[3], box[4]))"
   ]
  },
  {
   "cell_type": "code",
   "execution_count": null,
   "id": "3768ee51-d587-4e3f-9fbb-5c316965e619",
   "metadata": {
    "tags": []
   },
   "outputs": [],
   "source": [
    "# load_xml_annotations 할때 버스 혹은 트럭만 가져오기\n",
    "\n",
    "def load_xml_annotations_without_car(f):\n",
    "  tree = etree.parse(f)\n",
    "  anns = []\n",
    "  \n",
    "  truck_cnt = 0\n",
    "  bus_cnt = 0\n",
    "  car_cnt = 0\n",
    "  \n",
    "  \n",
    "  for dim in tree.xpath(\"image\"):\n",
    "    image_filename = dim.attrib[\"name\"]\n",
    "    width = int(dim.attrib[\"width\"])\n",
    "    height = int(dim.attrib[\"height\"])\n",
    "    # print(image_filename)\n",
    "    # print(len(dim.xpath(\"box\")))\n",
    "    boxes = []\n",
    "    \n",
    "    for box in dim.xpath(\"box\"):\n",
    "      cars = box.attrib[\"label\"]\n",
    "      \n",
    "      if cars == 'car':\n",
    "        car_cnt = car_cnt + 1\n",
    "      \n",
    "      if cars != 'car':\n",
    "        label = CLASSES.index(box.attrib[\"label\"])\n",
    "        xtl, ytl = box.attrib[\"xtl\"], box.attrib[\"ytl\"]\n",
    "        xbr, ybr = box.attrib[\"xbr\"], box.attrib[\"ybr\"]\n",
    "\n",
    "        xc, yc, w, h = to_yolov8([float(xtl), float(ytl), float(xbr), float(ybr)])\n",
    "        boxes.append([label, round(xc/width, 5), round(yc/height, 5), round(w/width, 5), round(h/height, 5)])\n",
    "        \n",
    "        if cars == 'truck':\n",
    "          truck_cnt = truck_cnt + 1\n",
    "        elif cars == 'bus':\n",
    "          bus_cnt = bus_cnt + 1\n",
    "\n",
    "    anns.append([image_filename, width, height, boxes])\n",
    "  \n",
    "  # print(\"truck_cnt : \", truck_cnt)\n",
    "  # print(\"bus_cnt : \", bus_cnt)\n",
    "  # print(\"car_cnt : \", car_cnt)\n",
    "  \n",
    "  # return np.array([[\"truck_cnt\" , truck_cnt] , [\"bus_cnt\" , bus_cnt] , [\"car_cnt\" , car_cnt]])\n",
    "  \n",
    "  return np.array(anns, dtype=\"object\")\n",
    "\n"
   ]
  },
  {
   "cell_type": "code",
   "execution_count": null,
   "id": "13d1dc76-ab35-432b-9189-f93e0081c0bb",
   "metadata": {
    "tags": []
   },
   "outputs": [],
   "source": [
    "# 파일명, 파일리스트, XML명, XML 리스트 반환\n",
    "def get_file_n_xml_list(base_dir, file_list):\n",
    "  file_name_list = []\n",
    "  xml_name_list = []\n",
    "  file_path_list = []\n",
    "  xml_path_list = []\n",
    "\n",
    "  for files in file_list:\n",
    "    file_name = os.path.basename(files)    \n",
    "    if os.path.splitext(file_name)[1] == '.png':\n",
    "      file_name_list.append(file_name)\n",
    "      under_file_path = files\n",
    "      under_file_path = under_file_path.replace(\".\\\\\", \"/\").replace(\"\\\\\", \"/\").replace(\"./\", \"/\")\n",
    "      path_list = base_dir + under_file_path\n",
    "      file_path_list.append(path_list)\n",
    "    elif os.path.splitext(file_name)[1] == '.xml':\n",
    "      xml_name_list.append(file_name)\n",
    "      under_file_path = files\n",
    "      under_file_path = under_file_path.replace(\".\\\\\", \"/\").replace(\"\\\\\", \"/\").replace(\"./\", \"/\")\n",
    "      path_list = base_dir + under_file_path\n",
    "      xml_path_list.append(path_list)\n",
    "  \n",
    "  return np.array([file_name_list, file_path_list, xml_name_list, xml_path_list], dtype=\"object\")"
   ]
  },
  {
   "cell_type": "code",
   "execution_count": null,
   "id": "5b51efa9-f666-4d15-9aea-9e70cf81306b",
   "metadata": {
    "tags": []
   },
   "outputs": [],
   "source": [
    "# get car type\n",
    "def get_car_type(f):\n",
    "  tree = etree.parse(f)\n",
    "  car_type = []\n",
    "  for meta_tag in tree.xpath(\"meta\"):\n",
    "    for task_tag in meta_tag.xpath(\"task\"):\n",
    "      for lables_tag in task_tag.xpath(\"labels\"):\n",
    "        for lable_tag in lables_tag.xpath(\"label\"):\n",
    "          for name_tag in lable_tag.xpath(\"name\"):            \n",
    "            car_type.append(name_tag.text)\n",
    "  result = []\n",
    "  truck_cnt = 0\n",
    "  bus_cnt = 0\n",
    "  car_cnt = 0\n",
    "  for dim in tree.xpath(\"image\"):\n",
    "    for box in dim.xpath(\"box\"):\n",
    "      cars = box.attrib[\"label\"]\n",
    "      if cars == car_type[0]:\n",
    "        truck_cnt = truck_cnt + 1\n",
    "      elif cars == car_type[1]:\n",
    "        bus_cnt = bus_cnt + 11\n",
    "      elif cars == car_type[2]:\n",
    "        car_cnt = car_cnt + 1\n",
    "   \n",
    "#  print(\"truck_cnt : \", truck_cnt)\n",
    "#  print(\"bus_cnt : \", bus_cnt)\n",
    "#  print(\"car_cnt : \", car_cnt)\n",
    "\n",
    "  return np.array([[car_type[0] , truck_cnt] , [car_type[1] , bus_cnt] , [car_type[2] , car_cnt]])"
   ]
  },
  {
   "cell_type": "code",
   "execution_count": null,
   "id": "2bf3beb7-1e05-4280-b3da-9bbd00b7157c",
   "metadata": {
    "tags": []
   },
   "outputs": [],
   "source": [
    "# 파일명, 파일리스트, XML명, XML 리스트 반환\n",
    "from pathlib import Path\n",
    "\n",
    "def get_specific_file_n_xml_list_v2(base_dir, file_list, bra):\n",
    "  file_name_list = []\n",
    "  xml_name_list = []\n",
    "  file_path_list = []\n",
    "  xml_path_list = []\n",
    "\n",
    "  for files in file_list:\n",
    "    file_name = os.path.basename(files)\n",
    "    if file_name.find('_') != -1 and len(file_name.split('_')) > 9:\n",
    "        branch = file_name.split('_')[1]\n",
    "        # print(\"branch : \", branch)\n",
    "        # print(\"bra : \", bra)\n",
    "        ## 필요한 지점, 정체여부, 차선정보, 날씨로 xml 파일리스트를 확인한다.\n",
    "        if bra == branch:\n",
    "            # print(\"branch2 : \", branch)\n",
    "            # print(\"bra2 : \", bra)\n",
    "            if os.path.splitext(file_name)[1] == '.png':\n",
    "                file_name_list.append(file_name)\n",
    "                under_file_path = files\n",
    "                under_file_path = under_file_path.replace(\".\\\\\", \"/\").replace(\"\\\\\", \"/\").replace(\"./\", \"/\")\n",
    "                path_list = str(Path(base_dir)) + str(Path(under_file_path))\n",
    "                file_path_list.append(path_list)\n",
    "            elif os.path.splitext(file_name)[1] == '.xml':\n",
    "                # print(\"branch3 : \", branch)\n",
    "                # print(\"bra3 : \", bra)\n",
    "                xml_name_list.append(file_name)\n",
    "                under_file_path = files\n",
    "                under_file_path = under_file_path.replace(\".\\\\\", \"/\").replace(\"\\\\\", \"/\").replace(\"./\", \"/\")\n",
    "                path_list = str(Path(base_dir)) + str(Path(under_file_path))\n",
    "                xml_path_list.append(path_list)\n",
    "  \n",
    "  return np.array([file_name_list, file_path_list, xml_name_list, xml_path_list], dtype=\"object\")"
   ]
  },
  {
   "cell_type": "markdown",
   "id": "3846a4f9-aca2-4490-a7ac-5c56620f8c4b",
   "metadata": {},
   "source": [
    "## Validation에서 작업"
   ]
  },
  {
   "cell_type": "code",
   "execution_count": null,
   "id": "223d18cb-3ff9-4ade-83c9-93315745ab31",
   "metadata": {
    "tags": []
   },
   "outputs": [],
   "source": [
    "val_base_dir = '/home/jupyter/cctv_datasets/cctv_storage_20231120/val/labels/'\n",
    "os.chdir(val_base_dir)\n",
    "os.getcwd()\n",
    "\n",
    "# Validation의 하위폴더에서 모든 파일을 리스트로 만들기\n",
    "val_file_list = glob.glob('./**', recursive=True)\n",
    "val_file_name = [os.path.basename(x) for x  in val_file_list]\n",
    "\n",
    "val_file_name_list = []\n",
    "val_xml_name_list = []\n",
    "\n",
    "val_file_path_list = []\n",
    "val_xml_path_list = []\n",
    "\n",
    "for file in val_file_list:\n",
    "  filename = os.path.basename(file)\n",
    "  if os.path.splitext(filename)[1] == '.png':\n",
    "    val_file_name_list.append(filename)\n",
    "    under_file_path = file\n",
    "    under_file_path = under_file_path.replace(\".\\\\\", \"/\").replace(\"\\\\\", \"/\").replace(\"./\", \"/\")\n",
    "    # path_list = val_base_dir + under_file_path\n",
    "    path_list = str(Path(val_base_dir)) + str(Path(under_file_path))\n",
    "    val_file_path_list.append(path_list)\n",
    "  elif os.path.splitext(filename)[1] == '.xml':\n",
    "    val_xml_name_list.append(filename)\n",
    "    under_file_path = file\n",
    "    under_file_path = under_file_path.replace(\".\\\\\", \"/\").replace(\"\\\\\", \"/\").replace(\"./\", \"/\")\n",
    "    # path_list = val_base_dir + under_file_path\n",
    "    path_list = str(Path(val_base_dir)) + str(Path(under_file_path))\n",
    "    val_xml_path_list.append(path_list)"
   ]
  },
  {
   "cell_type": "code",
   "execution_count": null,
   "id": "f28d115c-72ef-4133-9cfe-e4238c9101df",
   "metadata": {
    "collapsed": true,
    "jupyter": {
     "outputs_hidden": true
    },
    "tags": []
   },
   "outputs": [],
   "source": [
    "import time\n",
    "\n",
    "for label_file in val_xml_path_list:\n",
    "    anns = load_xml_annotations(label_file)\n",
    "    # print(anns)\n",
    "    label_files = os.path.split(label_file)\n",
    "    folderName=os.path.splitext(label_files[1])[0]\n",
    "    os.makedirs(os.path.join(label_files[0],folderName), exist_ok=True)\n",
    "    time.sleep(1)\n",
    "    for ann in anns:\n",
    "        write_yolov8_txt(os.path.join(label_files[0],folderName), ann)"
   ]
  },
  {
   "cell_type": "markdown",
   "id": "8ce35a69-4669-440a-90aa-f2e3e76f54d5",
   "metadata": {},
   "source": [
    "## Training 에서 작업"
   ]
  },
  {
   "cell_type": "code",
   "execution_count": null,
   "id": "2384e6b5-159c-4ab1-8db5-6f2a2770bdca",
   "metadata": {
    "tags": []
   },
   "outputs": [],
   "source": [
    "train_base_dir = '/home/jupyter/cctv_datasets/cctv_storage_20231120/train/labels/'\n",
    "os.chdir(train_base_dir)\n",
    "os.getcwd()\n",
    "\n",
    "# train 하위폴더에서 모든 파일을 리스트로 만들기\n",
    "train_file_list = glob.glob('./**', recursive=True)\n",
    "train_file_name = [os.path.basename(x) for x  in train_file_list]\n",
    "\n",
    "train_file_name_list = []\n",
    "train_xml_name_list = []\n",
    "\n",
    "train_file_path_list = []\n",
    "train_xml_path_list = []\n",
    "\n",
    "for file in train_file_list:\n",
    "  filename = os.path.basename(file)\n",
    "  if os.path.splitext(filename)[1] == '.png':\n",
    "    train_file_name_list.append(filename)\n",
    "    under_file_path = file\n",
    "    under_file_path = under_file_path.replace(\".\\\\\", \"/\").replace(\"\\\\\", \"/\").replace(\"./\", \"/\")\n",
    "    # path_list = train_base_dir + under_file_path\n",
    "    path_list = str(Path(train_base_dir)) + str(Path(under_file_path))\n",
    "    train_file_path_list.append(path_list)\n",
    "  elif os.path.splitext(filename)[1] == '.xml':\n",
    "    train_xml_name_list.append(filename)\n",
    "    under_file_path = file\n",
    "    under_file_path = under_file_path.replace(\".\\\\\", \"/\").replace(\"\\\\\", \"/\").replace(\"./\", \"/\")\n",
    "    # path_list = train_base_dir + under_file_path\n",
    "    path_list = str(Path(train_base_dir)) + str(Path(under_file_path))\n",
    "    train_xml_path_list.append(path_list)"
   ]
  },
  {
   "cell_type": "code",
   "execution_count": null,
   "id": "8536be3f-72a9-4429-9156-dcf5e8f0db6e",
   "metadata": {
    "tags": []
   },
   "outputs": [],
   "source": [
    "import time\n",
    "\n",
    "for label_file in train_xml_path_list:\n",
    "    anns = load_xml_annotations(label_file)\n",
    "    # print(anns)\n",
    "    label_files = os.path.split(label_file)\n",
    "    folderName=os.path.splitext(label_files[1])[0]\n",
    "    os.makedirs(os.path.join(label_files[0],folderName), exist_ok=True)\n",
    "    time.sleep(1)\n",
    "    for ann in anns:\n",
    "        write_yolov8_txt(os.path.join(label_files[0],folderName), ann)"
   ]
  },
  {
   "cell_type": "code",
   "execution_count": null,
   "id": "bbbf848d-e980-45b9-8873-740ed1dc6521",
   "metadata": {},
   "outputs": [],
   "source": [
    "# 특정 지점, 정체여부, 차선정보, 날씨로 xml 파일리스트를 확인한다\n",
    "BRANCH = \"CH08\"\n",
    "\n",
    "file_name_list3, file_path_list3, xml_name_list3, xml_path_list3 = get_specific_file_n_xml_list_v2(train_base_dir, train_file_list, BRANCH)"
   ]
  },
  {
   "cell_type": "code",
   "execution_count": null,
   "id": "991a24e8-beb4-4d5d-a4fc-a52066036f06",
   "metadata": {
    "scrolled": true,
    "tags": []
   },
   "outputs": [],
   "source": [
    "xml_path_list3"
   ]
  },
  {
   "cell_type": "code",
   "execution_count": null,
   "id": "2760898c-199c-4f99-ad53-ef429aae9555",
   "metadata": {
    "tags": []
   },
   "outputs": [],
   "source": [
    "## 트럭 버스만 바운딩 박스 사용\n",
    "# 1. xml 리스트 변경하기 예) xml_path_list3 \n",
    "\n",
    "import time\n",
    "\n",
    "for label_file in xml_path_list3:\n",
    "    anns = load_xml_annotations_without_car(label_file)\n",
    "    # print(anns)\n",
    "    label_files = os.path.split(label_file)\n",
    "    folderName=os.path.splitext(label_files[1])[0]\n",
    "    os.makedirs(os.path.join(label_files[0],folderName), exist_ok=True)\n",
    "    time.sleep(1)\n",
    "    for ann in anns:\n",
    "        write_yolov8_txt(os.path.join(label_files[0],folderName), ann)"
   ]
  },
  {
   "cell_type": "markdown",
   "id": "cdf80e16-c3ac-497f-bc23-02c888c70262",
   "metadata": {},
   "source": [
    "## 레이블 시각화 하기"
   ]
  },
  {
   "cell_type": "code",
   "execution_count": null,
   "id": "1ac3e8ba-9de7-49c4-845d-23190e50762d",
   "metadata": {
    "tags": []
   },
   "outputs": [],
   "source": [
    "import glob\n",
    "import os\n",
    "\n",
    "def glob_files(path, file_type=\"*\"):\n",
    "    search_string = os.path.join(path, file_type)\n",
    "    files = glob.glob(search_string)\n",
    "\n",
    "    # print('searching ', path)\n",
    "    paths = []\n",
    "    for f in files:\n",
    "      if os.path.isdir(f):\n",
    "        sub_paths = glob_files(f + '/')\n",
    "        paths += sub_paths\n",
    "      else:\n",
    "        paths.append(f)\n",
    "\n",
    "    # We sort the images in alphabetical order to match them\n",
    "    #  to the annotation files\n",
    "    paths.sort()\n",
    "\n",
    "    return paths"
   ]
  },
  {
   "cell_type": "code",
   "execution_count": null,
   "id": "de2de77c-f269-4135-9f1c-f6de1af3ee7a",
   "metadata": {
    "tags": []
   },
   "outputs": [],
   "source": [
    "import cv2\n",
    "import numpy as np\n",
    "\n",
    "IMAGE_SIZE = 600\n",
    "\n",
    "def load_images(path):\n",
    "  files = glob_files(path, \"*001.png\")\n",
    "\n",
    "  # print(files)\n",
    "  X_data = []\n",
    "  for file in files:\n",
    "    image = cv2.imread(file)\n",
    "    # print(image.shape)\n",
    "    # x = cv2.resize(image, None, fx=0.5, fy=0.5, interpolation=cv2.INTER_AREA)\n",
    "\n",
    "    X_data.append(image)\n",
    "  return np.array(X_data)\n",
    "\n",
    "X_test = load_images(\"/home/jupyter/cctv_datasets/cctv_storage_20231120/train/images/Suwon_CH08_20200720_1900_MON_9m_NH_highway_OW5_sunny_FHD\")"
   ]
  },
  {
   "cell_type": "code",
   "execution_count": null,
   "id": "ff004b27-3573-4d45-a73e-b391a64bcd68",
   "metadata": {
    "tags": []
   },
   "outputs": [],
   "source": [
    "WIDTH = 1080\n",
    "HEIGHT = 1920\n",
    "\n",
    "def load_labels(path):\n",
    "  files = glob_files(path, \"*001.txt\")\n",
    "\n",
    "  Y_data = []\n",
    "  for file in files:\n",
    "    with open(file) as f:\n",
    "      lines = f.readlines()\n",
    "\n",
    "      boxes = []\n",
    "      for line in lines:\n",
    "        tokens = line.split()\n",
    "\n",
    "        class_id = int(tokens[0])\n",
    "        xc = float(tokens[1]) * WIDTH\n",
    "        yc = float(tokens[2]) * HEIGHT\n",
    "        width = float(tokens[3]) * WIDTH\n",
    "        height = float(tokens[4]) * HEIGHT\n",
    "\n",
    "        boxes.append(np.array([class_id, xc, yc, width, height]))\n",
    "        # print(class_id, xc, yc, width, height)\n",
    "\n",
    "      Y_data.append(np.array(boxes))\n",
    "      # print(lines)\n",
    "  return np.array(Y_data)\n",
    "\n",
    "Y_test = load_labels(\"/home/jupyter/cctv_datasets/cctv_storage_20231120/train/labels/Suwon_CH08_20200720_1900_MON_9m_NH_highway_OW5_sunny_FHD\")"
   ]
  },
  {
   "cell_type": "code",
   "execution_count": null,
   "id": "8250a637-7954-4e42-bb58-1942b5aa59f6",
   "metadata": {
    "tags": []
   },
   "outputs": [],
   "source": [
    "import matplotlib.pyplot as plt\n",
    "import matplotlib.patches as patches\n",
    "\n",
    "def create_patch_rectangle(y, color):\n",
    "  # # in yolov5\n",
    "  width = int(y[2])\n",
    "  height = int(y[3])\n",
    "  return patches.Rectangle((int(y[0] - width/2), int(y[1] - height/2)),\n",
    "                           width, height,\n",
    "                           edgecolor=color, fill=False)\n",
    "\n",
    "COLORS = [(0, 255/255, 0), (255/255, 255/255, 0), (255/255, 0, 0)]\n",
    "\n",
    "def plot_image(image, boxes, axis):\n",
    "  # # print(boxes.shape)\n",
    "  for box in boxes:\n",
    "    # print(box)\n",
    "    class_id = int(box[0])\n",
    "    # print(type(class_id), class_id)\n",
    "    rect = create_patch_rectangle(box[1:], COLORS[class_id])\n",
    "    axis.add_patch(rect)\n",
    "\n",
    "  plt.imshow(image)\n",
    "\n",
    "def plot_images(X, Y, limit=10):\n",
    "  fig = plt.figure(figsize=(100, 80))\n",
    "\n",
    "  last_id = min(limit, X.shape[0])\n",
    "  for id in range(last_id):\n",
    "    axis = fig.add_subplot(5, 3, id + 1)\n",
    "    axis.get_xaxis().set_visible(False)\n",
    "    axis.get_yaxis().set_visible(False)\n",
    "    plot_image(X[id], Y[id], axis)\n",
    "\n",
    "plot_images(np.array([X_test[-1]]), np.array([Y_test[-1]]))"
   ]
  },
  {
   "cell_type": "markdown",
   "id": "566411fc-e873-422e-88e0-2b079d951650",
   "metadata": {
    "tags": []
   },
   "source": [
    "## 데이터셋 경로 설정하기"
   ]
  },
  {
   "cell_type": "code",
   "execution_count": null,
   "id": "3e1170d0-c049-4c36-852c-e29850139d0c",
   "metadata": {
    "tags": []
   },
   "outputs": [],
   "source": [
    "import os\n",
    "from glob import glob\n",
    "dataPath = '/home/jupyter/cctv_datasets/cctv_storage_20231120/'\n",
    "trainPath = os.path.join(dataPath,'train')\n",
    "validPath = os.path.join(dataPath,'val')\n",
    "# testPath  = os.path.join(dataPath,'test')\n",
    "\n",
    "trainImagesPath = os.path.join(trainPath, 'images')\n",
    "validImagesPath = os.path.join(validPath, 'images')\n",
    "# testImagesPath  = os.path.join(testPath,  'images')\n",
    "\n",
    "trainLabelsPath = os.path.join(trainPath, 'labels')\n",
    "validLabelsPath = os.path.join(validPath, 'labels')\n",
    "# testLabelsPath  = os.path.join(testPath,  'labels')"
   ]
  },
  {
   "cell_type": "code",
   "execution_count": null,
   "id": "3fffa27d-6a22-4f70-90ec-83f5fdc34a63",
   "metadata": {
    "tags": []
   },
   "outputs": [],
   "source": [
    "trainImagesPath, trainLabelsPath"
   ]
  },
  {
   "cell_type": "code",
   "execution_count": null,
   "id": "277a2d1f-25e4-466f-801a-ca398d4316f3",
   "metadata": {
    "tags": []
   },
   "outputs": [],
   "source": [
    "import torch"
   ]
  },
  {
   "cell_type": "code",
   "execution_count": null,
   "id": "4ed76729-a291-493d-9b5f-92cf8e86d2a0",
   "metadata": {
    "tags": []
   },
   "outputs": [],
   "source": [
    "from IPython.display import Image, clear_output  # to display images\n",
    "\n",
    "clear_output()\n",
    "print(f\"Setup complete. Using torch {torch.__version__} \\\n",
    "    ({torch.cuda.get_device_properties(0).name if torch.cuda.is_available() else 'CPU'})\")"
   ]
  },
  {
   "cell_type": "markdown",
   "id": "88b2ee9e-67b1-49ea-b13a-f24075db4f61",
   "metadata": {},
   "source": [
    "## Train CCTV Detection Model"
   ]
  },
  {
   "cell_type": "code",
   "execution_count": null,
   "id": "1c191cc6-c0ce-47a3-9c41-6ee41d327679",
   "metadata": {
    "tags": []
   },
   "outputs": [],
   "source": [
    "%cd {HOME}"
   ]
  },
  {
   "cell_type": "code",
   "execution_count": null,
   "id": "3140df07-566d-4152-9c99-36a6840d8341",
   "metadata": {
    "tags": []
   },
   "outputs": [],
   "source": [
    "%cd ultralytics\n",
    "!ls -al"
   ]
  },
  {
   "cell_type": "code",
   "execution_count": null,
   "id": "51ee4409-1417-4cad-a810-30befae606ef",
   "metadata": {
    "tags": []
   },
   "outputs": [],
   "source": [
    "from IPython.core.magic import register_line_cell_magic\n",
    "\n",
    "# yaml에 직접 쓰기를 실행하는 함수\n",
    "@register_line_cell_magic\n",
    "def writetemplate(line, cell):\n",
    "    with open(line, 'w') as f:\n",
    "        f.write(cell.format(**globals()))"
   ]
  },
  {
   "cell_type": "code",
   "execution_count": null,
   "id": "907c1526-afd3-4a75-8fb6-acc18ca0ddc0",
   "metadata": {
    "tags": []
   },
   "outputs": [],
   "source": [
    "dataPath = '/home/jupyter/cctv_datasets/cctv_storage_20231120/'"
   ]
  },
  {
   "cell_type": "code",
   "execution_count": null,
   "id": "c2d4b22f-bc93-4fb5-b418-099b9bab2c74",
   "metadata": {
    "tags": []
   },
   "outputs": [],
   "source": [
    "dataYaml = os.path.join(dataPath,'data.yaml')\n",
    "dataYaml"
   ]
  },
  {
   "cell_type": "code",
   "execution_count": null,
   "id": "625937d8-0edc-4497-bd7f-14ffef61ca96",
   "metadata": {
    "tags": []
   },
   "outputs": [],
   "source": [
    "print(trainImagesPath)\n",
    "print(validImagesPath)"
   ]
  },
  {
   "cell_type": "code",
   "execution_count": null,
   "id": "964ea460-cab7-4fce-bdfe-bc23e9dd6753",
   "metadata": {
    "tags": []
   },
   "outputs": [],
   "source": [
    "%%writetemplate {dataYaml}\n",
    "train: /home/jupyter/cctv_datasets/cctv_storage_20231120/train/images\n",
    "val: /home/jupyter/cctv_datasets/cctv_storage_20231120/val/images\n",
    "\n",
    "nc: 3\n",
    "names: ['car', 'bus', 'truck']"
   ]
  },
  {
   "cell_type": "code",
   "execution_count": null,
   "id": "cc7831b0-6fca-48e2-a5ce-a21d0084b3a8",
   "metadata": {
    "tags": []
   },
   "outputs": [],
   "source": [
    "%cd {HOME}\n",
    "\n",
    "!yolo task=detect mode=train model=yolov8m.pt data=/home/jupyter/cctv_datasets/cctv_storage_20231120/data.yaml epochs=75 imgsz=800 plots=True batch=16 cache=True\n",
    "# !yolo task=detect mode=train model=yolov8l.pt data=/home/jupyter/cctv_datasets/cctv_storage_20231120/data.yaml epochs=100 imgsz=1024 plots=True batch=8 cache=True workers=10"
   ]
  },
  {
   "cell_type": "code",
   "execution_count": null,
   "id": "df874c43-31f7-40a1-a5f5-52862732e906",
   "metadata": {
    "tags": []
   },
   "outputs": [],
   "source": [
    "!ls {HOME}/runs/detect/train9/"
   ]
  },
  {
   "cell_type": "code",
   "execution_count": null,
   "id": "fa679faf-7268-4aff-9693-1e31b1c20de4",
   "metadata": {
    "tags": []
   },
   "outputs": [],
   "source": [
    "%cd {HOME}\n",
    "Image(filename=f'{HOME}/runs/detect/train9/confusion_matrix.png', width=6000)"
   ]
  },
  {
   "cell_type": "code",
   "execution_count": null,
   "id": "f3dbd77f-f283-4600-a8f6-660e17e5f9cf",
   "metadata": {
    "tags": []
   },
   "outputs": [],
   "source": [
    "%cd {HOME}\n",
    "Image(filename=f'{HOME}/runs/detect/train9/results.png', width=6000)"
   ]
  },
  {
   "cell_type": "code",
   "execution_count": null,
   "id": "21b4e010-8de6-4c74-9a43-8382b76d3120",
   "metadata": {
    "tags": []
   },
   "outputs": [],
   "source": [
    "%cd {HOME}\n",
    "Image(filename=f'{HOME}/runs/detect/train9/val_batch0_labels.jpg', width=6000)"
   ]
  },
  {
   "cell_type": "code",
   "execution_count": null,
   "id": "610e36d2-7120-4d2b-b7fd-f99f1797262e",
   "metadata": {
    "tags": []
   },
   "outputs": [],
   "source": [
    "%cd {HOME}\n",
    "Image(filename=f'{HOME}/runs/detect/train9/val_batch0_pred.jpg', width=6000)"
   ]
  },
  {
   "cell_type": "code",
   "execution_count": null,
   "id": "8329e5b9-1edb-40b4-a945-4f8873aaf9c9",
   "metadata": {},
   "outputs": [],
   "source": [
    "# %cd {HOME}\n",
    "\n",
    "# !yolo task=detect mode=predict model=yolov8m.pt data=/home/jupyter/cctv_datasets/cctv_storage_20231120/data.yaml epochs=100 imgsz=800 plots=True batch=16 cache=True"
   ]
  },
  {
   "cell_type": "code",
   "execution_count": null,
   "metadata": {},
   "outputs": [],
   "source": [
    "os.getcwd()"
   ]
  },
  {
   "cell_type": "code",
   "execution_count": null,
   "metadata": {},
   "outputs": [],
   "source": [
    "from ultralytics import YOLO\n",
    "\n",
    "# Load a pretrained YOLOv8n model\n",
    "model = YOLO('/home/jupyter/runs/detect/train11/weights/best.pt')\n",
    "\n",
    "# Define source as YouTube video URL\n",
    "source = '/home/jupyter/cctv_datasets/cctv_storage_20231120/IMG_0835.MOV'\n",
    "\n",
    "# Run inference on the source\n",
    "results = model(source, stream=True)  # generator of Results objects"
   ]
  },
  {
   "cell_type": "code",
   "execution_count": null,
   "metadata": {},
   "outputs": [],
   "source": [
    "model = '/home/jupyter/runs/detect/train11/weights/best.pt'\n",
    "source = '/home/jupyter/cctv_datasets/cctv_storage_20231120/IMG_0835.MOV'"
   ]
  },
  {
   "cell_type": "code",
   "execution_count": null,
   "metadata": {},
   "outputs": [],
   "source": [
    "%cd ultralytics/"
   ]
  },
  {
   "cell_type": "code",
   "execution_count": null,
   "metadata": {},
   "outputs": [],
   "source": [
    "!pwd"
   ]
  },
  {
   "cell_type": "code",
   "execution_count": null,
   "metadata": {},
   "outputs": [],
   "source": [
    "# !pip install -r requirements.txt"
   ]
  },
  {
   "cell_type": "code",
   "execution_count": null,
   "metadata": {},
   "outputs": [],
   "source": [
    "# !pip install pafy"
   ]
  },
  {
   "cell_type": "code",
   "execution_count": null,
   "metadata": {},
   "outputs": [],
   "source": [
    "# !sudo apt-get install -y libgtk2.0-dev \n",
    "# !apt-get update\n",
    "# !apt-get install -y qt5-default libxcb-xinerama0-dev"
   ]
  },
  {
   "cell_type": "code",
   "execution_count": null,
   "metadata": {},
   "outputs": [],
   "source": [
    "!pip list | grep ultra"
   ]
  },
  {
   "cell_type": "code",
   "execution_count": null,
   "metadata": {},
   "outputs": [],
   "source": [
    "!python -V"
   ]
  },
  {
   "cell_type": "code",
   "execution_count": null,
   "metadata": {},
   "outputs": [],
   "source": [
    "# !pip uninstall -y ultralytics\n",
    "# !pip install ultralytics"
   ]
  },
  {
   "cell_type": "code",
   "execution_count": null,
   "metadata": {},
   "outputs": [],
   "source": [
    "!yolo task=detect mode=predict show=True model={model} source={source} imgsz=640 save=True name='highway_test'"
   ]
  },
  {
   "cell_type": "code",
   "execution_count": null,
   "metadata": {},
   "outputs": [],
   "source": [
    "# 데이터 추가\n",
    "!unzip /home/jupyter/mount_folder/Training/'[원천]1-2.수도권영동선.zip' -d /home/jupyter/cctv_datasets/cctv_storage_20231120/train/images\n",
    "!rm -rf Suwon_CH05*\n",
    "!rm -rf Suwon_CH07*\n"
   ]
  },
  {
   "cell_type": "markdown",
   "metadata": {},
   "source": [
    "### 테스트한 자동차 버스 트럭 수 찾기"
   ]
  },
  {
   "cell_type": "code",
   "execution_count": null,
   "metadata": {},
   "outputs": [],
   "source": [
    "testImages = '/home/jupyter/cctv_datasets/cctv_storage_20231120/train/images'\n",
    "from glob import glob\n",
    "\n",
    "testList =[]\n",
    "for filename in glob(os.path.join(testImages, '*.png')):\n",
    "    testList.append(filename)"
   ]
  },
  {
   "cell_type": "code",
   "execution_count": null,
   "metadata": {},
   "outputs": [],
   "source": [
    "from ultralytics import YOLO\n",
    "\n",
    "resultList =[]\n",
    "\n",
    "# Load a pretrained YOLOv8n model\n",
    "model = YOLO('/home/jupyter/runs/detect/train11/weights/best.pt')\n",
    "\n",
    "# Run inference on images\n",
    "results = model(testList)\n",
    "\n",
    "# View results\n",
    "for result in results:\n",
    "    resultList.append(result.cpu().numpy().boxes.cls)  # print the Boxes object containing the detection bounding boxes"
   ]
  },
  {
   "cell_type": "code",
   "execution_count": null,
   "metadata": {},
   "outputs": [],
   "source": [
    "import pandas as pd\n",
    "sum = [0, 0, 0]\n",
    "\n",
    "for result in resultList:\n",
    "    for i in range(len(sum)):\n",
    "        sum[i] += result.tolist().count(i)\n",
    "print(sum)\n",
    "\n",
    "print(\"전체 {}장의 이미지에서 승용차 {}대, 버스 {}대, 트럭 {}대를 발견하였습니다.\".format(len(resultList), sum[0], sum[1], sum[2]))"
   ]
  }
 ],
 "metadata": {
  "environment": {
   "kernel": "python3",
   "name": ".m113",
   "type": "gcloud",
   "uri": "gcr.io/deeplearning-platform-release/:m113"
  },
  "kernelspec": {
   "display_name": "Python 3",
   "language": "python",
   "name": "python3"
  },
  "language_info": {
   "codemirror_mode": {
    "name": "ipython",
    "version": 3
   },
   "file_extension": ".py",
   "mimetype": "text/x-python",
   "name": "python",
   "nbconvert_exporter": "python",
   "pygments_lexer": "ipython3",
   "version": "3.10.13"
  }
 },
 "nbformat": 4,
 "nbformat_minor": 5
}
